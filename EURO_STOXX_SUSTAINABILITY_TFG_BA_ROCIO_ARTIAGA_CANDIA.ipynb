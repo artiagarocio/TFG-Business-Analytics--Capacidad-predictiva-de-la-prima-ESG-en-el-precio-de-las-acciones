{
  "nbformat": 4,
  "nbformat_minor": 0,
  "metadata": {
    "kernelspec": {
      "display_name": "Python 3",
      "language": "python",
      "name": "python3"
    },
    "language_info": {
      "codemirror_mode": {
        "name": "ipython",
        "version": 3
      },
      "file_extension": ".py",
      "mimetype": "text/x-python",
      "name": "python",
      "nbconvert_exporter": "python",
      "pygments_lexer": "ipython3",
      "version": "3.8.5"
    },
    "colab": {
      "name": "EURO STOXX SUSTAINABILITY- TFG BA-ROCIO ARTIAGA CANDIA.ipynb",
      "provenance": [],
      "collapsed_sections": [],
      "include_colab_link": true
    }
  },
  "cells": [
    {
      "cell_type": "markdown",
      "metadata": {
        "id": "view-in-github",
        "colab_type": "text"
      },
      "source": [
        "<a href=\"https://colab.research.google.com/github/artiagarocio/TFG-Business-Analytics--Capacidad-predictiva-de-la-prima-ESG-en-el-precio-de-las-acciones/blob/main/EURO_STOXX_SUSTAINABILITY_TFG_BA_ROCIO_ARTIAGA_CANDIA.ipynb\" target=\"_parent\"><img src=\"https://colab.research.google.com/assets/colab-badge.svg\" alt=\"Open In Colab\"/></a>"
      ]
    },
    {
      "cell_type": "code",
      "metadata": {
        "id": "jzaBDpW9yT32"
      },
      "source": [
        "#CÓODIGO REFERENTE AL ANÁLISIS DE DATOS DEL TFG DE BA: \"LA CAPACIDAD PREDICTIVA EN EL PRECIO DE LAS ACCIONES\"\n",
        "#EURO STOXX SUSTAINABILITY- CÓDIGO\n",
        "#AUTOR:  ROCIO ARTIAGA CANDIA\n",
        "#CARGA DE LIBRERIAS\n",
        "import pandas as pd\n",
        "from sklearn.linear_model import LinearRegression \n",
        "import numpy as np\n",
        "import matplotlib.pyplot as plt\n",
        "from matplotlib import style\n",
        "import seaborn as sns\n",
        "from scipy.stats import pearsonr\n",
        "from sklearn.model_selection import train_test_split\n",
        "from sklearn.metrics import r2_score\n",
        "from sklearn.metrics import mean_squared_error\n",
        "import statsmodels.api as sm\n",
        "import statsmodels.formula.api as smf\n",
        "from statsmodels.stats.anova import anova_lm\n",
        "from scipy import stats\n",
        "from statsmodels.regression.rolling import RollingOLS\n",
        "import warnings\n",
        "warnings.filterwarnings('ignore')"
      ],
      "execution_count": null,
      "outputs": []
    },
    {
      "cell_type": "code",
      "metadata": {
        "id": "uVCGWVLKyT34"
      },
      "source": [
        "#CARGA DE LOS DATOS DE INDICES EURO STOXX SUSTAINABILITY, EURO STOXX, Y SUB-ÍNDICES DE SECTORES\n",
        "df = pd.read_excel (r'/Users/rocioartiaga/Desktop/indices/STOXX/euro-stoxx-data-4.xlsx')\n"
      ],
      "execution_count": null,
      "outputs": []
    },
    {
      "cell_type": "code",
      "metadata": {
        "id": "ylAAr7WKyT35"
      },
      "source": [
        "#ESTABLECER LOS EJES\n",
        "df.set_axis(['Date', 'ES-SUST', 'ES','HC', 'UT', 'EN'], \n",
        "                    axis='columns', inplace=True)\n"
      ],
      "execution_count": null,
      "outputs": []
    },
    {
      "cell_type": "code",
      "metadata": {
        "id": "iY-NPKOGyT35"
      },
      "source": [
        "#CÁLCULO DE LAS RENTABILIDADESA\n",
        "df['ES-SUST']= df['ES-SUST'].pct_change(-1)\n",
        "df['ES']=df['ES'].pct_change(-1)\n",
        "df['HC']=df['HC'].pct_change(-1)\n",
        "df['UT']=df['UT'].pct_change(-1)\n",
        "df['EN']=df['EN'].pct_change(-1)"
      ],
      "execution_count": null,
      "outputs": []
    },
    {
      "cell_type": "code",
      "metadata": {
        "id": "mvah-S07yT36"
      },
      "source": [
        "#ELIMINAR NA\n",
        "df.dropna()"
      ],
      "execution_count": null,
      "outputs": []
    },
    {
      "cell_type": "code",
      "metadata": {
        "id": "6XWYsuv6yT36"
      },
      "source": [
        "#CÁLCULOO DE LA PRIMA ESG COMO DIFEREENCIA DE EURO STOXX SUSTAINABILITY Y EURO STOXX\n",
        "df['primaESG']= df['ES-SUST']- df['ES']"
      ],
      "execution_count": null,
      "outputs": []
    },
    {
      "cell_type": "code",
      "metadata": {
        "id": "1aErIbe7yT36"
      },
      "source": [
        "#ORDEN DE VALORES\n",
        "df=df.sort_values(by='Date')"
      ],
      "execution_count": null,
      "outputs": []
    },
    {
      "cell_type": "code",
      "metadata": {
        "id": "sYOA84-byT36"
      },
      "source": [
        "#DISTRIBUCIÓN DE LAS VARIABLES NUMÉRICAS DEL DATASET \n",
        "fig, axes = plt.subplots(2, 3, figsize=(15, 5), sharey=True)\n",
        "\n",
        "sns.distplot(df['ES'] , color=\"blue\", ax=axes[0,0], axlabel='Euro Stoxx')\n",
        "sns.distplot(df['ES-SUST'] , color=\"blue\", ax=axes[0,1], axlabel='Euro Stoxx Sustainability')\n",
        "sns.distplot(df['primaESG'] , color=\"blue\", ax=axes[1,1], axlabel= 'PrimaESG')\n",
        "sns.distplot(df['UT'] , color=\"blue\", ax=axes[1,2], axlabel='Utilities')\n",
        "sns.distplot(df['EN'] , color=\"blue\", ax=axes[1,0], axlabel= 'Energy')\n",
        "sns.distplot(df['HC'] , color=\"blue\", ax=axes[0,2], axlabel='Health Care')\n",
        "plt.subplots_adjust(top=1.5)"
      ],
      "execution_count": null,
      "outputs": []
    },
    {
      "cell_type": "code",
      "metadata": {
        "id": "4rGFKETjyT37"
      },
      "source": [
        "#DESCRIPCIÓN DE LAS VARIABLES\n",
        "df.describe()"
      ],
      "execution_count": null,
      "outputs": []
    },
    {
      "cell_type": "code",
      "metadata": {
        "id": "nDRPJhUXyT37"
      },
      "source": [
        "#ORDEN DE LOS REGISTROS\n",
        "df=df.sort_values(by='Date')"
      ],
      "execution_count": null,
      "outputs": []
    },
    {
      "cell_type": "code",
      "metadata": {
        "id": "ePAMtSjoyT38"
      },
      "source": [
        "#ELIMINAR VALORES INFINITOS \n",
        "df.replace([np.inf, -np.inf], np.nan)\n",
        "\n",
        "df.dropna(inplace=True)"
      ],
      "execution_count": null,
      "outputs": []
    },
    {
      "cell_type": "code",
      "metadata": {
        "id": "BMEFv5hfyT38"
      },
      "source": [
        "#ahoora procedemos a dividir por periodos, estratificar la muestra\n",
        "start_date1 = \"2010-8-04\"\n",
        "end_date1 = \"2011-12-31\"\n",
        "\n",
        "after_start_date1 = df[\"Date\"] >= start_date1\n",
        "before_end_date1 = df[\"Date\"] <= end_date1\n",
        "between_two_dates1 = after_start_date1 & before_end_date1\n",
        "filtered_dates1 = df.loc[between_two_dates1]\n",
        "subset1= filtered_dates1"
      ],
      "execution_count": null,
      "outputs": []
    },
    {
      "cell_type": "code",
      "metadata": {
        "id": "hiFstm5myT38"
      },
      "source": [
        "start_date2 = \"2012-1-1\"\n",
        "end_date2 = \"2013-12-31\"\n",
        "\n",
        "after_start_date2 = df[\"Date\"] >= start_date2\n",
        "before_end_date2 = df[\"Date\"] <= end_date2\n",
        "between_two_dates2 = after_start_date2 & before_end_date2\n",
        "filtered_dates2 = df.loc[between_two_dates2]\n",
        "subset2= filtered_dates2"
      ],
      "execution_count": null,
      "outputs": []
    },
    {
      "cell_type": "code",
      "metadata": {
        "id": "b9H6nllKyT38"
      },
      "source": [
        "start_date3 = \"2014-1-1\"\n",
        "end_date3 = \"2015-12-31\"\n",
        "\n",
        "after_start_date3 = df[\"Date\"] >= start_date3\n",
        "before_end_date3 = df[\"Date\"] <= end_date3\n",
        "between_two_dates3 = after_start_date3 & before_end_date3\n",
        "filtered_dates3 = df.loc[between_two_dates3]\n",
        "subset3= filtered_dates3"
      ],
      "execution_count": null,
      "outputs": []
    },
    {
      "cell_type": "code",
      "metadata": {
        "id": "1D-R0-qQyT39"
      },
      "source": [
        "start_date4 = \"2016-1-1\"\n",
        "end_date4 = \"2017-12-31\"\n",
        "\n",
        "after_start_date4 = df[\"Date\"] >= start_date4\n",
        "before_end_date4 = df[\"Date\"] <= end_date4\n",
        "between_two_dates4 = after_start_date4 & before_end_date4\n",
        "filtered_dates4 = df.loc[between_two_dates4]\n",
        "subset4= filtered_dates4"
      ],
      "execution_count": null,
      "outputs": []
    },
    {
      "cell_type": "code",
      "metadata": {
        "id": "8qYX4RB6yT39"
      },
      "source": [
        "start_date5 = \"2018-1-1\"\n",
        "end_date5 = \"2019-12-31\"\n",
        "\n",
        "after_start_date5 = df[\"Date\"] >= start_date5\n",
        "before_end_date5 = df[\"Date\"] <= end_date5\n",
        "between_two_dates5 = after_start_date5 & before_end_date5\n",
        "filtered_dates5 = df.loc[between_two_dates5]\n",
        "subset5= filtered_dates5"
      ],
      "execution_count": null,
      "outputs": []
    },
    {
      "cell_type": "code",
      "metadata": {
        "id": "quTEtKERyT39"
      },
      "source": [
        "start_date6 = \"2020-1-1\"\n",
        "end_date6 = \"2021-3-8\"\n",
        "\n",
        "after_start_date6 = df[\"Date\"] >= start_date6\n",
        "before_end_date6 = df[\"Date\"] <= end_date6\n",
        "between_two_dates6 = after_start_date6 & before_end_date6\n",
        "filtered_dates6 = df.loc[between_two_dates6]\n",
        "subset6= filtered_dates6"
      ],
      "execution_count": null,
      "outputs": []
    },
    {
      "cell_type": "code",
      "metadata": {
        "id": "JwhZIfPByT39"
      },
      "source": [
        "#PERÍODO 7: PERÍODO DESDE 2011 PARA CALCULAR POSTERIORMENTE SHARPE RATIO\n",
        "start_date7 = \"2012-1-1\"\n",
        "end_date7 = \"2021-3-8\"\n",
        "\n",
        "after_start_date7 = df[\"Date\"] >= start_date7\n",
        "before_end_date7 = df[\"Date\"] <= end_date7\n",
        "between_two_dates7 = after_start_date7 & before_end_date7\n",
        "filtered_dates7 = df.loc[between_two_dates7]\n",
        "subset7= filtered_dates7"
      ],
      "execution_count": null,
      "outputs": []
    },
    {
      "cell_type": "code",
      "metadata": {
        "id": "ttRbULTgyT39"
      },
      "source": [
        "subset7=subset7.set_index('Date')"
      ],
      "execution_count": null,
      "outputs": []
    },
    {
      "cell_type": "code",
      "metadata": {
        "id": "bFPmxCEJyT3-"
      },
      "source": [
        "df=df.set_index('Date')"
      ],
      "execution_count": null,
      "outputs": []
    },
    {
      "cell_type": "code",
      "metadata": {
        "id": "whZvCGSNyT3-"
      },
      "source": [
        "#CÁLCULO CON ROLLING CORRELATION \n",
        "\n",
        "df['primaESG'].rolling(253).corr(df['HC']).plot (title='CORRELACIÓN PRIMA ESG EN EL SECTOR DE LA SALUD', figsize=(20,12), color='blue')"
      ],
      "execution_count": null,
      "outputs": []
    },
    {
      "cell_type": "code",
      "metadata": {
        "id": "aiBAQXkJyT3-"
      },
      "source": [
        "df['primaESG'].rolling(253).corr(df['UT']).plot (title='CORRELACIÓN PRIMA ESG EN EL SECTOR SERVICIOS', figsize=(20,12), color='blue')"
      ],
      "execution_count": null,
      "outputs": []
    },
    {
      "cell_type": "code",
      "metadata": {
        "id": "ACAqxfMAyT3-"
      },
      "source": [
        "df['primaESG'].rolling(253).corr(df['EN']).plot (title='CORRELACIÓN PRIMA ESG EN EL SECTOR ENERGÉTICO', figsize=(20,12), color='blue')\n"
      ],
      "execution_count": null,
      "outputs": []
    },
    {
      "cell_type": "code",
      "metadata": {
        "id": "jHIE85AryT3_"
      },
      "source": [
        "#CÁLCULO CON ROLLING REGRESSION PRIMA ESG \n",
        "\n",
        "#SECTORES SOBRE LOS QUE SE VA A CALCULAR EL COEFICIENTE DE LA PRIMA ESG CON ROLLING REGRESSION\n",
        "items= df[['HC', 'UT','EN']]\n",
        "\n",
        "#SE EMPLEA UN LOOP PARA SER MÁS EFICIENTE\n",
        "for i in items: \n",
        "\n",
        "    X = df[['ES', 'primaESG']]\n",
        "    y = items[i]\n",
        "    \n",
        "    exog = sm.add_constant(X)\n",
        "    rols = RollingOLS(endog=y, exog=exog,window=253,)\n",
        "    modelo = rols.fit()\n",
        "    params=modelo.params\n",
        "    fig = modelo.plot_recursive_coefficient(variables=['primaESG'], figsize=(14,6)) #Gráfico del coeficiente asignado a la prima ESG"
      ],
      "execution_count": null,
      "outputs": []
    },
    {
      "cell_type": "code",
      "metadata": {
        "id": "eq9RC-8xyT3_"
      },
      "source": [
        "#DEFINIR FUNCIÓN DE ROLLING SHARPE RATIO\n",
        "def my_rolling_sharpe(y):\n",
        "    return np.sqrt(253) * (y.mean() / y.std())"
      ],
      "execution_count": null,
      "outputs": []
    },
    {
      "cell_type": "code",
      "metadata": {
        "id": "PNZ9o22vyT3_"
      },
      "source": [
        "#CÁLCULO DE SHARPE RATIO\n",
        "subset7['EURO STOXX SUSTAINABILITY'] = subset7['ES-SUST'].rolling('253d').apply(my_rolling_sharpe)\n",
        "subset7['EURO STOXX'] = subset7['ES'].rolling('253d').apply(my_rolling_sharpe)"
      ],
      "execution_count": null,
      "outputs": []
    },
    {
      "cell_type": "code",
      "metadata": {
        "id": "roxFOIbCyT3_"
      },
      "source": [
        "#GRÁFICA DE SHARPE RATIO\n",
        "subset7.plot(title= 'SHARPE RATIO EURO STOXX SUSTAINABLITY Y EURO STOXX',y=['EURO STOXX SUSTAINABILITY', 'EURO STOXX'], figsize=(20,12), color=('grey','blue'))"
      ],
      "execution_count": null,
      "outputs": []
    },
    {
      "cell_type": "code",
      "metadata": {
        "id": "ah8D52MxyT3_"
      },
      "source": [
        "plt.rcParams['image.cmap'] = \"bwr\"\n",
        "#plt.rcParams['figure.dpi'] = \"100\"\n",
        "plt.rcParams['savefig.bbox'] = \"tight\"\n",
        "style.use('ggplot') or plt.style.use('ggplot')"
      ],
      "execution_count": null,
      "outputs": []
    },
    {
      "cell_type": "code",
      "metadata": {
        "id": "BBAAM4rIyT4A"
      },
      "source": [
        "#PERÍODO ENTERO PARA ESTIMAR LA REGRESIÓN\n",
        "\n",
        "#SECTORES SOBRE LOS QUE SE ESTIMARÁ EL MODELO\n",
        "items= df[['HC', 'UT','EN']]\n",
        "\n",
        "for i in items:\n",
        "    X = df[['ES', 'primaESG']]\n",
        "    y = df[i]\n",
        "\n",
        "    X_train, X_test, y_train, y_test = train_test_split(\n",
        "                                            X,\n",
        "                                            y.values.reshape(-1,1),\n",
        "                                            train_size   = 0.8,\n",
        "                                            random_state = 1234,\n",
        "                                            shuffle      = True\n",
        "                                        )\n",
        "    X_train = sm.add_constant(X_train, prepend=True)\n",
        "    modelo = sm.OLS(endog=y_train, exog=X_train,)\n",
        "    modelo = modelo.fit()\n",
        "    print(\"Modelo\", [i], modelo.summary())\n",
        "    \n",
        "    #ESTUDIO DE LOS RESIDUOS\n",
        "    #cálculo de los residuos\n",
        "    y_train = y_train.flatten() \n",
        "    prediccion_train = modelo.predict(exog = X_train)\n",
        "    residuos_train   = prediccion_train - y_train\n",
        "    \n",
        "    #gráficas de los residuos\n",
        "    \n",
        "    fig, axes = plt.subplots(nrows=2, ncols=3, figsize=(12, 6))\n",
        "\n",
        "    axes[0, 0].scatter(y_train, prediccion_train, edgecolors=(0, 0, 0), alpha = 0.4, color='blue')\n",
        "    axes[0, 0].plot([y_train.min(), y_train.max()], [y_train.min(), y_train.max()],\n",
        "                    'k--', color = 'grey', lw=3)\n",
        "    axes[0, 0].set_title('Prediccion vs Valor Real', fontsize = 10)\n",
        "    axes[0, 0].set_xlabel('Real')\n",
        "    axes[0, 0].set_ylabel('Predicción')\n",
        "    axes[0, 0].tick_params(labelsize = 6)\n",
        "\n",
        "    axes[0, 1].scatter(list(range(len(y_train))), residuos_train,\n",
        "                       edgecolors=(0, 0, 0), alpha = 0.4, color='blue')\n",
        "    axes[0, 1].axhline(y = 0, linestyle = '--', color = 'grey', lw=2)\n",
        "    axes[0, 1].set_title('Residuos del modelo', fontsize = 10)\n",
        "    axes[0, 1].set_xlabel('ID')\n",
        "    axes[0, 1].set_ylabel('Residuo')\n",
        "    axes[0, 1].tick_params(labelsize = 6)\n",
        "\n",
        "    sns.histplot(\n",
        "        data    = residuos_train,\n",
        "        stat    = \"density\",\n",
        "        kde     = True,\n",
        "        line_kws= {'linewidth': 1},\n",
        "        color   = \"blue\",\n",
        "        alpha   = 0.3,\n",
        "        ax      = axes[0, 2]\n",
        "    )\n",
        "\n",
        "    axes[0, 2].set_title('Distribución residuos', fontsize = 10)\n",
        "    axes[0, 2].set_xlabel(\"Residuos\")\n",
        "    axes[0, 2].tick_params(labelsize = 6)\n",
        "\n",
        "    # Se eliminan los ejes vacíos\n",
        "    fig.delaxes(axes[1,0])\n",
        "    fig.delaxes(axes[1,1])\n",
        "    fig.delaxes(axes[1,2])\n",
        "\n",
        "    fig.tight_layout()\n",
        "    plt.subplots_adjust(top=0.9);\n",
        "\n",
        "    #SHAPIRO\n",
        "    shapiro_test = stats.shapiro(residuos_train)\n",
        "    print([i], shapiro_test)\n",
        "\n",
        "    print([i],df['primaESG'].corr(df[i]))\n",
        "    \n",
        "    #PREDICCIONES EN TEST\n",
        "    X_test = sm.add_constant(X_test, prepend=True)\n",
        "    predicciones = modelo.predict(exog = X_test)\n",
        "    rmse = mean_squared_error(\n",
        "            y_true  = y_test,\n",
        "            y_pred  = predicciones,\n",
        "            squared = False\n",
        "           )\n",
        "    print(\"\")\n",
        "    print([i],f\"RMSE: {rmse}\")"
      ],
      "execution_count": null,
      "outputs": []
    },
    {
      "cell_type": "code",
      "metadata": {
        "id": "lW2TxVEEyT4A"
      },
      "source": [
        "#REGRESIÓN Y RESIDUOS PERIODO 1\n",
        "\n",
        "#SECTORES\n",
        "items1= subset1[['HC', 'UT','EN']]\n",
        "\n",
        "for i in items1:\n",
        "    X = subset1[['ES', 'primaESG']]\n",
        "    y = items1[i]\n",
        "\n",
        "    X_train, X_test, y_train, y_test = train_test_split(\n",
        "                                            X,\n",
        "                                            y.values.reshape(-1,1),\n",
        "                                            train_size   = 0.8,\n",
        "                                            random_state = 1234,\n",
        "                                            shuffle      = True\n",
        "                                        )\n",
        "    X_train = sm.add_constant(X_train, prepend=True)\n",
        "    modelo = sm.OLS(endog=y_train, exog=X_train,)\n",
        "    modelo = modelo.fit()\n",
        "    print(\"Modelo\", [i], modelo.summary())\n",
        "    \n",
        "    #ESTUDIO DE LOS RESIDUOS\n",
        "    #cálculo de los residuos\n",
        "    y_train = y_train.flatten() \n",
        "    prediccion_train = modelo.predict(exog = X_train)\n",
        "    residuos_train   = prediccion_train - y_train\n",
        "    \n",
        "    #gráficas de los residuos\n",
        "    \n",
        "    fig, axes = plt.subplots(nrows=2, ncols=3, figsize=(12, 6))\n",
        "\n",
        "    axes[0, 0].scatter(y_train, prediccion_train, edgecolors=(0, 0, 0), alpha = 0.4, color='blue')\n",
        "    axes[0, 0].plot([y_train.min(), y_train.max()], [y_train.min(), y_train.max()],\n",
        "                    'k--', color = 'grey', lw=3)\n",
        "    axes[0, 0].set_title('Prediccion vs Valor Real', fontsize = 10)\n",
        "    axes[0, 0].set_xlabel('Real')\n",
        "    axes[0, 0].set_ylabel('Predicción')\n",
        "    axes[0, 0].tick_params(labelsize = 6)\n",
        "\n",
        "    axes[0, 1].scatter(list(range(len(y_train))), residuos_train,\n",
        "                       edgecolors=(0, 0, 0), alpha = 0.4, color='blue')\n",
        "    axes[0, 1].axhline(y = 0, linestyle = '--', color = 'grey', lw=2)\n",
        "    axes[0, 1].set_title('Residuos del modelo', fontsize = 10)\n",
        "    axes[0, 1].set_xlabel('ID')\n",
        "    axes[0, 1].set_ylabel('Residuo')\n",
        "    axes[0, 1].tick_params(labelsize = 6)\n",
        "\n",
        "    sns.histplot(\n",
        "        data    = residuos_train,\n",
        "        stat    = \"density\",\n",
        "        kde     = True,\n",
        "        line_kws= {'linewidth': 1},\n",
        "        color   = \"blue\",\n",
        "        alpha   = 0.3,\n",
        "        ax      = axes[0, 2]\n",
        "    )\n",
        "\n",
        "    axes[0, 2].set_title('Distribución residuos', fontsize = 10)\n",
        "    axes[0, 2].set_xlabel(\"Residuos\")\n",
        "    axes[0, 2].tick_params(labelsize = 6)\n",
        "\n",
        "    # Se eliminan los ejes vacíos\n",
        "    fig.delaxes(axes[1,0])\n",
        "    fig.delaxes(axes[1,1])\n",
        "    fig.delaxes(axes[1,2])\n",
        "\n",
        "    fig.tight_layout()\n",
        "    plt.subplots_adjust(top=0.9);\n",
        "\n",
        "    #SHAPIRO\n",
        "    shapiro_test = stats.shapiro(residuos_train)\n",
        "    print([i], shapiro_test)\n",
        "\n",
        "    #PREDICCIONES\n",
        "    X_test = sm.add_constant(X_test, prepend=True)\n",
        "    predicciones = modelo.predict(exog = X_test)\n",
        "    rmse = mean_squared_error(\n",
        "            y_true  = y_test,\n",
        "            y_pred  = predicciones,\n",
        "            squared = False\n",
        "           )\n",
        "    print(\"\")\n",
        "    print([i],f\"RMSE: {rmse}\")"
      ],
      "execution_count": null,
      "outputs": []
    },
    {
      "cell_type": "code",
      "metadata": {
        "id": "y_0zfJanyT4B"
      },
      "source": [
        "#REGRESIÓN Y RESIDUOS PERIODO 2\n",
        "items2= subset2[['HC', 'UT','EN']]\n",
        "\n",
        "for i in items2:\n",
        "    X = subset2[['ES', 'primaESG']]\n",
        "    y = items2[i]\n",
        "\n",
        "    X_train, X_test, y_train, y_test = train_test_split(\n",
        "                                            X,\n",
        "                                            y.values.reshape(-1,1),\n",
        "                                            train_size   = 0.8,\n",
        "                                            random_state = 1234,\n",
        "                                            shuffle      = True\n",
        "                                        )\n",
        "    X_train = sm.add_constant(X_train, prepend=True)\n",
        "    modelo = sm.OLS(endog=y_train, exog=X_train,)\n",
        "    modelo = modelo.fit()\n",
        "    print(\"Modelo\", [i], modelo.summary())\n",
        "    \n",
        "    #ESTUDIO DE LOS RESIDUOS\n",
        "    #cálculo de los residuos\n",
        "    y_train = y_train.flatten() \n",
        "    prediccion_train = modelo.predict(exog = X_train)\n",
        "    residuos_train   = prediccion_train - y_train\n",
        "    \n",
        "    #gráficas de los residuos\n",
        "    \n",
        "    fig, axes = plt.subplots(nrows=2, ncols=3, figsize=(12, 6))\n",
        "\n",
        "    axes[0, 0].scatter(y_train, prediccion_train, edgecolors=(0, 0, 0), alpha = 0.4, color='blue')\n",
        "    axes[0, 0].plot([y_train.min(), y_train.max()], [y_train.min(), y_train.max()],\n",
        "                    'k--', color = 'grey', lw=3)\n",
        "    axes[0, 0].set_title('Prediccion vs Valor Real', fontsize = 10)\n",
        "    axes[0, 0].set_xlabel('Real')\n",
        "    axes[0, 0].set_ylabel('Predicción')\n",
        "    axes[0, 0].tick_params(labelsize = 6)\n",
        "\n",
        "    axes[0, 1].scatter(list(range(len(y_train))), residuos_train,\n",
        "                       edgecolors=(0, 0, 0), alpha = 0.4, color='blue')\n",
        "    axes[0, 1].axhline(y = 0, linestyle = '--', color = 'grey', lw=2)\n",
        "    axes[0, 1].set_title('Residuos del modelo', fontsize = 10)\n",
        "    axes[0, 1].set_xlabel('ID')\n",
        "    axes[0, 1].set_ylabel('Residuo')\n",
        "    axes[0, 1].tick_params(labelsize = 6)\n",
        "\n",
        "    sns.histplot(\n",
        "        data    = residuos_train,\n",
        "        stat    = \"density\",\n",
        "        kde     = True,\n",
        "        line_kws= {'linewidth': 1},\n",
        "        color   = \"blue\",\n",
        "        alpha   = 0.3,\n",
        "        ax      = axes[0, 2]\n",
        "    )\n",
        "\n",
        "    axes[0, 2].set_title('Distribución residuos', fontsize = 10)\n",
        "    axes[0, 2].set_xlabel(\"Residuos\")\n",
        "    axes[0, 2].tick_params(labelsize = 6)\n",
        "\n",
        "    # Se eliminan los ejes vacíos\n",
        "    fig.delaxes(axes[1,0])\n",
        "    fig.delaxes(axes[1,1])\n",
        "    fig.delaxes(axes[1,2])\n",
        "\n",
        "    fig.tight_layout()\n",
        "    plt.subplots_adjust(top=0.9);\n",
        "\n",
        "    #SHAPIRO\n",
        "    shapiro_test = stats.shapiro(residuos_train)\n",
        "    print([i], shapiro_test)\n",
        "    \n",
        "    #PREDICCIONES\n",
        "    X_test = sm.add_constant(X_test, prepend=True)\n",
        "    predicciones = modelo.predict(exog = X_test)\n",
        "    rmse = mean_squared_error(\n",
        "            y_true  = y_test,\n",
        "            y_pred  = predicciones,\n",
        "            squared = False\n",
        "           )\n",
        "    print(\"\")\n",
        "    print([i],f\"RMSE: {rmse}\")"
      ],
      "execution_count": null,
      "outputs": []
    },
    {
      "cell_type": "code",
      "metadata": {
        "id": "dSMvPtvxyT4B"
      },
      "source": [
        "# REGRESIÓN Y RESIDUOS. PERIODO 3\n",
        "\n",
        "items3= subset3[['HC', 'UT','EN']]\n",
        "\n",
        "for i in items3:\n",
        "    X = subset3[['ES', 'primaESG']]\n",
        "    y = items3[i]\n",
        "\n",
        "    X_train, X_test, y_train, y_test = train_test_split(\n",
        "                                            X,\n",
        "                                            y.values.reshape(-1,1),\n",
        "                                            train_size   = 0.8,\n",
        "                                            random_state = 1234,\n",
        "                                            shuffle      = True\n",
        "                                        )\n",
        "    X_train = sm.add_constant(X_train, prepend=True)\n",
        "    modelo = sm.OLS(endog=y_train, exog=X_train,)\n",
        "    modelo = modelo.fit()\n",
        "    print(\"Modelo\", [i], modelo.summary())\n",
        "\n",
        "    \n",
        "    #ESTUDIO DE LOS RESIDUOS\n",
        "    #cálculo de los residuos\n",
        "    y_train = y_train.flatten() \n",
        "    prediccion_train = modelo.predict(exog = X_train)\n",
        "    residuos_train   = prediccion_train - y_train\n",
        "    \n",
        "    #gráficas de los residuos\n",
        "    \n",
        "    fig, axes = plt.subplots(nrows=2, ncols=3, figsize=(12, 6))\n",
        "\n",
        "    axes[0, 0].scatter(y_train, prediccion_train, edgecolors=(0, 0, 0), alpha = 0.4, color='blue')\n",
        "    axes[0, 0].plot([y_train.min(), y_train.max()], [y_train.min(), y_train.max()],\n",
        "                    'k--', color = 'grey', lw=3)\n",
        "    axes[0, 0].set_title('Prediccion vs Valor Real', fontsize = 10)\n",
        "    axes[0, 0].set_xlabel('Real')\n",
        "    axes[0, 0].set_ylabel('Predicción')\n",
        "    axes[0, 0].tick_params(labelsize = 6)\n",
        "\n",
        "    axes[0, 1].scatter(list(range(len(y_train))), residuos_train,\n",
        "                       edgecolors=(0, 0, 0), alpha = 0.4, color='blue')\n",
        "    axes[0, 1].axhline(y = 0, linestyle = '--', color = 'grey', lw=2)\n",
        "    axes[0, 1].set_title('Residuos del modelo', fontsize = 10)\n",
        "    axes[0, 1].set_xlabel('ID')\n",
        "    axes[0, 1].set_ylabel('Residuo')\n",
        "    axes[0, 1].tick_params(labelsize = 6)\n",
        "\n",
        "    sns.histplot(\n",
        "        data    = residuos_train,\n",
        "        stat    = \"density\",\n",
        "        kde     = True,\n",
        "        line_kws= {'linewidth': 1},\n",
        "        color   = \"blue\",\n",
        "        alpha   = 0.3,\n",
        "        ax      = axes[0, 2]\n",
        "    )\n",
        "\n",
        "    axes[0, 2].set_title('Distribución residuos', fontsize = 10)\n",
        "    axes[0, 2].set_xlabel(\"Residuos\")\n",
        "    axes[0, 2].tick_params(labelsize = 6)\n",
        "\n",
        "    # Se eliminan los ejes vacíos\n",
        "    fig.delaxes(axes[1,0])\n",
        "    fig.delaxes(axes[1,1])\n",
        "    fig.delaxes(axes[1,2])\n",
        "\n",
        "    fig.tight_layout()\n",
        "    plt.subplots_adjust(top=0.9);\n",
        "\n",
        "    #SHAPIRO\n",
        "    shapiro_test = stats.shapiro(residuos_train)\n",
        "    print([i], shapiro_test)\n",
        "\n",
        "    #PREDICCIONES\n",
        "    X_test = sm.add_constant(X_test, prepend=True)\n",
        "    predicciones = modelo.predict(exog = X_test)\n",
        "    rmse = mean_squared_error(\n",
        "            y_true  = y_test,\n",
        "            y_pred  = predicciones,\n",
        "            squared = False\n",
        "           )\n",
        "    print(\"\")\n",
        "    print([i],f\"RMSE: {rmse}\")\n"
      ],
      "execution_count": null,
      "outputs": []
    },
    {
      "cell_type": "code",
      "metadata": {
        "id": "JPTa_0ZryT4C"
      },
      "source": [
        "#PERIODO 4\n",
        "\n",
        "items4= subset4[['HC', 'UT','EN']]\n",
        "for i in items4:\n",
        "    X = subset4[['ES', 'primaESG']]\n",
        "    y = items4[i]\n",
        "\n",
        "    X_train, X_test, y_train, y_test = train_test_split(\n",
        "                                            X,\n",
        "                                            y.values.reshape(-1,1),\n",
        "                                            train_size   = 0.8,\n",
        "                                            random_state = 1234,\n",
        "                                            shuffle      = True\n",
        "                                        )\n",
        "    X_train = sm.add_constant(X_train, prepend=True)\n",
        "    modelo = sm.OLS(endog=y_train, exog=X_train,)\n",
        "    modelo = modelo.fit()\n",
        "    print(\"Modelo\", [i], modelo.summary())\n",
        "\n",
        "    #ESTUDIO DE LOS RESIDUOS\n",
        "    #cálculo de los residuos\n",
        "    y_train = y_train.flatten() \n",
        "    prediccion_train = modelo.predict(exog = X_train)\n",
        "    residuos_train   = prediccion_train - y_train\n",
        "    \n",
        "    #gráficas de los residuos\n",
        "    \n",
        "    fig, axes = plt.subplots(nrows=2, ncols=3, figsize=(12, 6))\n",
        "\n",
        "    axes[0, 0].scatter(y_train, prediccion_train, edgecolors=(0, 0, 0), alpha = 0.4, color='blue')\n",
        "    axes[0, 0].plot([y_train.min(), y_train.max()], [y_train.min(), y_train.max()],\n",
        "                    'k--', color = 'grey', lw=3)\n",
        "    axes[0, 0].set_title('Prediccion vs Valor Real', fontsize = 10)\n",
        "    axes[0, 0].set_xlabel('Real')\n",
        "    axes[0, 0].set_ylabel('Predicción')\n",
        "    axes[0, 0].tick_params(labelsize = 6)\n",
        "\n",
        "    axes[0, 1].scatter(list(range(len(y_train))), residuos_train,\n",
        "                       edgecolors=(0, 0, 0), alpha = 0.4, color='blue')\n",
        "    axes[0, 1].axhline(y = 0, linestyle = '--', color = 'grey', lw=2)\n",
        "    axes[0, 1].set_title('Residuos del modelo', fontsize = 10)\n",
        "    axes[0, 1].set_xlabel('ID')\n",
        "    axes[0, 1].set_ylabel('Residuo')\n",
        "    axes[0, 1].tick_params(labelsize = 6)\n",
        "\n",
        "    sns.histplot(\n",
        "        data    = residuos_train,\n",
        "        stat    = \"density\",\n",
        "        kde     = True,\n",
        "        line_kws= {'linewidth': 1},\n",
        "        color   = \"blue\",\n",
        "        alpha   = 0.3,\n",
        "        ax      = axes[0, 2]\n",
        "    )\n",
        "\n",
        "    axes[0, 2].set_title('Distribución residuos', fontsize = 10)\n",
        "    axes[0, 2].set_xlabel(\"Residuos\")\n",
        "    axes[0, 2].tick_params(labelsize = 6)\n",
        "\n",
        "    # Se eliminan los ejes vacíos\n",
        "    fig.delaxes(axes[1,0])\n",
        "    fig.delaxes(axes[1,1])\n",
        "    fig.delaxes(axes[1,2])\n",
        "\n",
        "    fig.tight_layout()\n",
        "    plt.subplots_adjust(top=0.9);\n",
        "\n",
        "    #SHAPIRO\n",
        "    shapiro_test = stats.shapiro(residuos_train)\n",
        "    print([i], shapiro_test)\n",
        "    \n",
        "    #PREDICCIONES\n",
        "    X_test = sm.add_constant(X_test, prepend=True)\n",
        "    predicciones = modelo.predict(exog = X_test)\n",
        "    rmse = mean_squared_error(\n",
        "            y_true  = y_test,\n",
        "            y_pred  = predicciones,\n",
        "            squared = False\n",
        "           )\n",
        "    print(\"\")\n",
        "    print([i],f\"RMSE: {rmse}\")\n"
      ],
      "execution_count": null,
      "outputs": []
    },
    {
      "cell_type": "code",
      "metadata": {
        "id": "5Z15pS8cyT4C"
      },
      "source": [
        "#PREDICCION Y RESIDUOS PERÍODOO 5\n",
        "\n",
        "items5= subset5[['HC', 'UT','EN']]\n",
        "\n",
        "for i in items5:\n",
        "    X = subset5[['ES', 'primaESG']]\n",
        "    y = items5[i]\n",
        "\n",
        "    X_train, X_test, y_train, y_test = train_test_split(\n",
        "                                            X,\n",
        "                                            y.values.reshape(-1,1),\n",
        "                                            train_size   = 0.8,\n",
        "                                            random_state = 1234,\n",
        "                                            shuffle      = True\n",
        "                                        )\n",
        "    X_train = sm.add_constant(X_train, prepend=True)\n",
        "    modelo = sm.OLS(endog=y_train, exog=X_train,)\n",
        "    modelo = modelo.fit()\n",
        "    print(\"Modelo\", [i], modelo.summary())\n",
        "    \n",
        "    #ESTUDIO DE LOS RESIDUOS\n",
        "    #cálculo de los residuos\n",
        "    y_train = y_train.flatten() \n",
        "    prediccion_train = modelo.predict(exog = X_train)\n",
        "    residuos_train   = prediccion_train - y_train\n",
        "    \n",
        "    #gráficas de los residuos\n",
        "    \n",
        "    fig, axes = plt.subplots(nrows=2, ncols=3, figsize=(12, 6))\n",
        "\n",
        "    axes[0, 0].scatter(y_train, prediccion_train, edgecolors=(0, 0, 0), alpha = 0.4, color='blue')\n",
        "    axes[0, 0].plot([y_train.min(), y_train.max()], [y_train.min(), y_train.max()],\n",
        "                    'k--', color = 'grey', lw=3)\n",
        "    axes[0, 0].set_title('Prediccion vs Valor Real', fontsize = 10)\n",
        "    axes[0, 0].set_xlabel('Real')\n",
        "    axes[0, 0].set_ylabel('Predicción')\n",
        "    axes[0, 0].tick_params(labelsize = 6)\n",
        "\n",
        "    axes[0, 1].scatter(list(range(len(y_train))), residuos_train,\n",
        "                       edgecolors=(0, 0, 0), alpha = 0.4, color='blue')\n",
        "    axes[0, 1].axhline(y = 0, linestyle = '--', color = 'grey', lw=2)\n",
        "    axes[0, 1].set_title('Residuos del modelo', fontsize = 10)\n",
        "    axes[0, 1].set_xlabel('ID')\n",
        "    axes[0, 1].set_ylabel('Residuo')\n",
        "    axes[0, 1].tick_params(labelsize = 6)\n",
        "\n",
        "    sns.histplot(\n",
        "        data    = residuos_train,\n",
        "        stat    = \"density\",\n",
        "        kde     = True,\n",
        "        line_kws= {'linewidth': 1},\n",
        "        color   = \"blue\",\n",
        "        alpha   = 0.3,\n",
        "        ax      = axes[0, 2]\n",
        "    )\n",
        "\n",
        "    axes[0, 2].set_title('Distribución residuos', fontsize = 10)\n",
        "    axes[0, 2].set_xlabel(\"Residuos\")\n",
        "    axes[0, 2].tick_params(labelsize = 6)\n",
        "\n",
        "    # Se eliminan los ejes vacíos\n",
        "    fig.delaxes(axes[1,0])\n",
        "    fig.delaxes(axes[1,1])\n",
        "    fig.delaxes(axes[1,2])\n",
        "\n",
        "    fig.tight_layout()\n",
        "    plt.subplots_adjust(top=0.9);\n",
        "\n",
        "    #SHAPIRO\n",
        "    shapiro_test = stats.shapiro(residuos_train)\n",
        "    print([i], shapiro_test)\n",
        "    \n",
        "    #PREDICCIONES\n",
        "    X_test = sm.add_constant(X_test, prepend=True)\n",
        "    predicciones = modelo.predict(exog = X_test)\n",
        "    rmse = mean_squared_error(\n",
        "            y_true  = y_test,\n",
        "            y_pred  = predicciones,\n",
        "            squared = False\n",
        "           )\n",
        "    print(\"\")\n",
        "    print([i],f\"RMSE: {rmse}\")\n"
      ],
      "execution_count": null,
      "outputs": []
    },
    {
      "cell_type": "code",
      "metadata": {
        "id": "bz7GEPY2yT4C"
      },
      "source": [
        "#REGRESIÓN Y RESIDUOS PERIODO 6\n",
        "\n",
        "items6= subset6[['HC', 'UT','EN']]\n",
        "\n",
        "\n",
        "for i in items5:               \n",
        "    X = subset6[['ES', 'primaESG']]\n",
        "    y = items6[i]\n",
        "\n",
        "    X_train, X_test, y_train, y_test = train_test_split(\n",
        "                                            X,\n",
        "                                            y.values.reshape(-1,1),\n",
        "                                            train_size   = 0.8,\n",
        "                                            random_state = 1234,\n",
        "                                            shuffle      = True\n",
        "                                        )\n",
        "    X_train = sm.add_constant(X_train, prepend=True)\n",
        "    modelo = sm.OLS(endog=y_train, exog=X_train,)\n",
        "    modelo = modelo.fit()\n",
        "    print(\"Modelo\", [i], modelo.summary())\n",
        "    \n",
        "    #ESTUDIO DE LOS RESIDUOS\n",
        "    #cálculo de los residuos\n",
        "    y_train = y_train.flatten() \n",
        "    prediccion_train = modelo.predict(exog = X_train)\n",
        "    residuos_train   = prediccion_train - y_train\n",
        "    \n",
        "    #gráficas de los residuos\n",
        "    \n",
        "    fig, axes = plt.subplots(nrows=2, ncols=3, figsize=(12, 6))\n",
        "\n",
        "    axes[0, 0].scatter(y_train, prediccion_train, edgecolors=(0, 0, 0), alpha = 0.4, color='blue')\n",
        "    axes[0, 0].plot([y_train.min(), y_train.max()], [y_train.min(), y_train.max()],\n",
        "                    'k--', color = 'grey', lw=3)\n",
        "    axes[0, 0].set_title('Prediccion vs Valor Real', fontsize = 10)\n",
        "    axes[0, 0].set_xlabel('Real')\n",
        "    axes[0, 0].set_ylabel('Predicción')\n",
        "    axes[0, 0].tick_params(labelsize = 6)\n",
        "\n",
        "    axes[0, 1].scatter(list(range(len(y_train))), residuos_train,\n",
        "                       edgecolors=(0, 0, 0), alpha = 0.4, color='blue')\n",
        "    axes[0, 1].axhline(y = 0, linestyle = '--', color = 'grey', lw=2)\n",
        "    axes[0, 1].set_title('Residuos del modelo', fontsize = 10)\n",
        "    axes[0, 1].set_xlabel('ID')\n",
        "    axes[0, 1].set_ylabel('Residuo')\n",
        "    axes[0, 1].tick_params(labelsize = 6)\n",
        "\n",
        "    sns.histplot(\n",
        "        data    = residuos_train,\n",
        "        stat    = \"density\",\n",
        "        kde     = True,\n",
        "        line_kws= {'linewidth': 1},\n",
        "        color   = \"blue\",\n",
        "        alpha   = 0.3,\n",
        "        ax      = axes[0, 2]\n",
        "    )\n",
        "\n",
        "    axes[0, 2].set_title('Distribución residuos', fontsize = 10)\n",
        "    axes[0, 2].set_xlabel(\"Residuos\")\n",
        "    axes[0, 2].tick_params(labelsize = 6)\n",
        "\n",
        "    # Se eliminan los ejes vacíos\n",
        "    fig.delaxes(axes[1,0])\n",
        "    fig.delaxes(axes[1,1])\n",
        "    fig.delaxes(axes[1,2])\n",
        "\n",
        "    fig.tight_layout()\n",
        "    plt.subplots_adjust(top=0.9);\n",
        "\n",
        "    #SHAPIRO\n",
        "    shapiro_test = stats.shapiro(residuos_train)\n",
        "    print([i], shapiro_test)\n",
        "    #REGRESIÓN\n",
        "    X_test = sm.add_constant(X_test, prepend=True)\n",
        "    predicciones = modelo.predict(exog = X_test)\n",
        "    rmse = mean_squared_error(\n",
        "            y_true  = y_test,\n",
        "            y_pred  = predicciones,\n",
        "            squared = False\n",
        "           )\n",
        "    print(\"\")\n",
        "    print([i],f\"RMSE: {rmse}\")\n"
      ],
      "execution_count": null,
      "outputs": []
    },
    {
      "cell_type": "code",
      "metadata": {
        "id": "sGHRe8vuyT4D"
      },
      "source": [
        ""
      ],
      "execution_count": null,
      "outputs": []
    },
    {
      "cell_type": "code",
      "metadata": {
        "id": "iVy7ZnhxyT4D"
      },
      "source": [
        ""
      ],
      "execution_count": null,
      "outputs": []
    }
  ]
}